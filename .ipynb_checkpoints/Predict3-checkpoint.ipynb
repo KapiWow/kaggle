{
 "cells": [
  {
   "cell_type": "code",
   "execution_count": 111,
   "metadata": {},
   "outputs": [],
   "source": [
    "import numpy as np\n",
    "import pandas as pd\n",
    "import matplotlib.pyplot as plt\n",
    "import seaborn as sns\n",
    "\n",
    "from datetime import datetime, date\n",
    "from dateutil.relativedelta import relativedelta\n",
    "\n",
    "from sklearn.preprocessing import StandardScaler\n",
    "\n",
    "from math import ceil\n",
    "\n",
    "from keras.callbacks import LambdaCallback\n",
    "from keras.models import Sequential\n",
    "from keras.layers.core import Dense, Dropout, Activation, Flatten\n",
    "from keras.layers.normalization import BatchNormalization\n",
    "from keras.callbacks import ModelCheckpoint, ReduceLROnPlateau, CSVLogger, EarlyStopping\n",
    "from keras.optimizers import RMSprop, Adam, SGD, Nadam\n",
    "from keras.layers.advanced_activations import *\n",
    "from keras.layers import Convolution1D, MaxPooling1D, AtrousConvolution1D\n",
    "from keras.layers.recurrent import LSTM, GRU\n",
    "from keras import regularizers\n",
    "\n",
    "%matplotlib inline\n"
   ]
  },
  {
   "cell_type": "code",
   "execution_count": 112,
   "metadata": {},
   "outputs": [
    {
     "name": "stdout",
     "output_type": "stream",
     "text": [
      "Ok\n"
     ]
    }
   ],
   "source": [
    "train = pd.read_csv('all/sales_train.csv')\n",
    "test = pd.read_csv('all/test.csv')\n",
    "submission = pd.read_csv('all/sample_submission.csv')\n",
    "items = pd.read_csv('all/items.csv')\n",
    "item_cats = pd.read_csv('all/item_categories.csv')\n",
    "shops = pd.read_csv('all/shops.csv')\n",
    "print(\"Ok\")"
   ]
  },
  {
   "cell_type": "code",
   "execution_count": 113,
   "metadata": {},
   "outputs": [],
   "source": [
    "test_shops = test.shop_id.unique()\n",
    "train = train[train.shop_id.isin(test_shops)]\n",
    "test_items = test.item_id.unique()\n",
    "train = train[train.item_id.isin(test_items)]\n",
    "\n",
    "MAX_BLOCK_NUM = train.date_block_num.max()\n",
    "MAX_ITEM = len(test_items)\n",
    "MAX_CAT = len(item_cats)\n",
    "MAX_YEAR = 3\n",
    "MAX_MONTH = 4 # 7 8 9 10\n",
    "MAX_SHOP = len(test_shops)"
   ]
  },
  {
   "cell_type": "code",
   "execution_count": 114,
   "metadata": {},
   "outputs": [],
   "source": [
    "# add categories\n",
    "train = train.set_index('item_id').join(items.set_index('item_id')).drop('item_name', axis=1).reset_index()\n",
    "\n",
    "\n",
    "train['month'] = train.date.apply(lambda x: datetime.strptime(x, '%d.%m.%Y').strftime('%m'))\n",
    "train['year'] = train.date.apply(lambda x: datetime.strptime(x, '%d.%m.%Y').strftime('%Y'))"
   ]
  },
  {
   "cell_type": "code",
   "execution_count": 115,
   "metadata": {},
   "outputs": [],
   "source": [
    "train = train.drop('date', axis=1)\n",
    "train = train.drop('item_category_id', axis=1)\n",
    "train = train.groupby(['shop_id', 'item_id', 'date_block_num', 'month', 'year']).sum()\n",
    "train = train.sort_index()\n"
   ]
  },
  {
   "cell_type": "code",
   "execution_count": 116,
   "metadata": {},
   "outputs": [],
   "source": [
    "scaler = StandardScaler()\n",
    "cnt_scaler = StandardScaler()\n",
    "\n",
    "scaler.fit(train.item_price.values.reshape(-1, 1))\n",
    "cnt_scaler.fit(train.item_cnt_day.values.reshape(-1, 1))\n",
    "\n",
    "train.item_price = scaler.transform(train.item_price.values.reshape(-1, 1))\n",
    "# train.item_cnt_day = cnt_scaler.transform(train.item_cnt_day.values.reshape(-1, 1))"
   ]
  },
  {
   "cell_type": "code",
   "execution_count": 117,
   "metadata": {},
   "outputs": [],
   "source": [
    "price = train.reset_index().set_index(['item_id', 'shop_id', 'date_block_num'])\n",
    "price = price.sort_index()"
   ]
  },
  {
   "cell_type": "code",
   "execution_count": 118,
   "metadata": {},
   "outputs": [],
   "source": [
    "from sklearn import preprocessing\n",
    "\n",
    "item_le = preprocessing.LabelEncoder()\n",
    "item_le.fit(test_items)\n",
    "item_dm = dict(zip(test_items, item_le.transform(test_items)))\n",
    "\n",
    "\n",
    "shop_le = preprocessing.LabelEncoder()\n",
    "shop_le.fit(test_shops)\n",
    "shop_dm = dict(zip(test_shops, shop_le.transform(test_shops)))\n",
    "\n",
    "\n",
    "month_le = preprocessing.LabelEncoder()\n",
    "month_le.fit(range(7,11))\n",
    "month_dm = dict(zip(range(7,11), month_le.transform(range(7,11))))"
   ]
  },
  {
   "cell_type": "code",
   "execution_count": 119,
   "metadata": {},
   "outputs": [
    {
     "name": "stdout",
     "output_type": "stream",
     "text": [
      "prepared\n"
     ]
    }
   ],
   "source": [
    "values = train.values.tolist()\n",
    "keys = train.index.values.tolist()\n",
    "table = []\n",
    "for i in range(len(item_dm)):\n",
    "    table.append([])\n",
    "    for j in range(len(shop_dm)):\n",
    "        table[i].append([])\n",
    "        for k in range(34):\n",
    "            table[i][j].append([0,10])\n",
    "print(\"prepared\")"
   ]
  },
  {
   "cell_type": "code",
   "execution_count": 120,
   "metadata": {},
   "outputs": [],
   "source": [
    "values = train.values.tolist()\n",
    "keys = train.index.values.tolist()\n",
    "for i in range(len(train.index)):\n",
    "    key = keys[i]\n",
    "    value = values[i]\n",
    "    table[item_dm[key[1]]][shop_dm[key[0]]][key[2]] = [value[0],value[1]]\n"
   ]
  },
  {
   "cell_type": "code",
   "execution_count": 121,
   "metadata": {},
   "outputs": [
    {
     "name": "stdout",
     "output_type": "stream",
     "text": [
      "done\n"
     ]
    }
   ],
   "source": [
    "for i in range(len(item_dm)):\n",
    "    table.append([])\n",
    "    for j in range(len(shop_dm)):\n",
    "        price = 0\n",
    "        count = 0\n",
    "        k = 0\n",
    "        while price==0 and k < 34:\n",
    "            if table[i][j][k][1]<9: \n",
    "                price = table[i][j][k][0]\n",
    "            k = k+1\n",
    "        k = 0\n",
    "        while k < 34:\n",
    "            if table[i][j][k][1]<9: \n",
    "                price = table[i][j][k][0]\n",
    "            else:\n",
    "                table[i][j][k][1] = 0\n",
    "                table[i][j][k][0] = price\n",
    "            k = k+1\n",
    "print(\"done\")\n",
    "# table[0][0]"
   ]
  },
  {
   "cell_type": "code",
   "execution_count": 122,
   "metadata": {},
   "outputs": [],
   "source": [
    "MAX_ITEM = len(test_items)\n",
    "MAX_MONTH = 32 \n",
    "MAX_SHOP = len(test_shops)"
   ]
  },
  {
   "cell_type": "code",
   "execution_count": 128,
   "metadata": {},
   "outputs": [],
   "source": [
    "\n",
    "# x_train = np.zeros((MAX_ITEM,MAX_SHOP*MAX_MONTH*2), dtype=np.float32)\n",
    "# for i, item in enumerate(table):\n",
    "#     for j, sales in enumerate(item):  \n",
    "#         for k in range(MAX_MONTH):\n",
    "#             x_train[i][j*MAX_MONTH*2+k*2] = table[i][j][k][0]\n",
    "#             x_train[i][j*MAX_MONTH*2+k*2+1] = table[i][j][k][1]\n",
    "            \n",
    "# y_train = np.zeros((MAX_ITEM,MAX_SHOP), dtype=np.float32)\n",
    "# for i, item in enumerate(table):\n",
    "#     for j, sales in enumerate(item):  \n",
    "#         y_train[i][j] = table[i][j][MAX_MONTH][1]\n",
    "\n",
    "x_train = np.zeros((MAX_ITEM, MAX_MONTH, MAX_SHOP*2), dtype=np.float32)\n",
    "for i, item in enumerate(table):\n",
    "    for j, sales in enumerate(item):  \n",
    "        for k in range(MAX_MONTH):\n",
    "            x_train[i][k][j*2] = table[i][j][k][0]\n",
    "            x_train[i][k][j*2+1] = table[i][j][k][1]\n",
    "            \n",
    "# y_train = np.zeros((MAX_ITEM,MAX_SHOP), dtype=np.float32)\n",
    "# for i, item in enumerate(table): \n",
    "#      for j, sales in enumerate(item):  \n",
    "#         y_train[i][j] = table[i][j][MAX_MONTH][1]\n",
    "y_train = np.zeros((MAX_ITEM,MAX_SHOP*5), dtype=np.float32)\n",
    "for i, item in enumerate(table): \n",
    "    for j, sales in enumerate(item):\n",
    "        val = table[i][j][MAX_MONTH][1]\n",
    "        if val>=5:\n",
    "            val = 4\n",
    "        y_train[i][int(j*5+val)] = 1"
   ]
  },
  {
   "cell_type": "code",
   "execution_count": null,
   "metadata": {},
   "outputs": [],
   "source": [
    "# x_train[0][0]"
   ]
  },
  {
   "cell_type": "code",
   "execution_count": 129,
   "metadata": {},
   "outputs": [],
   "source": [
    "# x_val = np.zeros((MAX_ITEM,MAX_SHOP*MAX_MONTH*2), dtype=np.float32)\n",
    "# for i, item in enumerate(table):\n",
    "#     for j, sales in enumerate(item):  \n",
    "#         for k in range(MAX_MONTH):\n",
    "#             x_val[i][j*MAX_MONTH*2+k*2] = table[i][j][k+1][0]\n",
    "#             x_val[i][j*MAX_MONTH*2+k*2+1] = table[i][j][k+1][1]\n",
    "            \n",
    "\n",
    "\n",
    "# y_val = np.zeros((MAX_ITEM,MAX_SHOP), dtype=np.float32)\n",
    "# for i, item in enumerate(table):\n",
    "#     for j, sales in enumerate(item):  \n",
    "#         y_val[i][j] = table[i][j][MAX_MONTH+1][1]\n",
    "\n",
    "x_val = np.zeros((MAX_ITEM, MAX_MONTH, MAX_SHOP*2), dtype=np.float32)\n",
    "for i, item in enumerate(table):\n",
    "    for j, sales in enumerate(item):  \n",
    "        for k in range(MAX_MONTH):\n",
    "            x_val[i][k][j*2] = table[i][j][k+1][0]\n",
    "            x_val[i][k][j*2+1] = table[i][j][k+1][1]\n",
    "            \n",
    "y_val = np.zeros((MAX_ITEM,MAX_SHOP*5), dtype=np.float32)\n",
    "for i, item in enumerate(table): \n",
    "     for j, sales in enumerate(item):  \n",
    "        val = table[i][j][MAX_MONTH+1][1]\n",
    "        if val>=5:\n",
    "            val = 4\n",
    "        y_train[i][int(j*5+val)] = 1\n",
    "#         y_val[i][j] = table[i][j][MAX_MONTH+1][1]"
   ]
  },
  {
   "cell_type": "code",
   "execution_count": 130,
   "metadata": {},
   "outputs": [
    {
     "name": "stdout",
     "output_type": "stream",
     "text": [
      "32 84\n"
     ]
    }
   ],
   "source": [
    "print(len(x_train[0]), len(x_train[0][0]))"
   ]
  },
  {
   "cell_type": "code",
   "execution_count": 131,
   "metadata": {
    "scrolled": true
   },
   "outputs": [
    {
     "name": "stdout",
     "output_type": "stream",
     "text": [
      "Build model...\n",
      "Train on 5100 samples, validate on 5100 samples\n",
      "Epoch 1/50\n"
     ]
    },
    {
     "ename": "KeyboardInterrupt",
     "evalue": "",
     "output_type": "error",
     "traceback": [
      "\u001b[0;31m---------------------------------------------------------------------------\u001b[0m",
      "\u001b[0;31mKeyboardInterrupt\u001b[0m                         Traceback (most recent call last)",
      "\u001b[0;32m<ipython-input-131-092ea66f1658>\u001b[0m in \u001b[0;36m<module>\u001b[0;34m\u001b[0m\n\u001b[1;32m     55\u001b[0m \u001b[0;34m\u001b[0m\u001b[0m\n\u001b[1;32m     56\u001b[0m \u001b[0;31m# model.fit(x_train, y_train, batch_size=2048, epochs=50, validation_data=(x_val, y_val))\u001b[0m\u001b[0;34m\u001b[0m\u001b[0;34m\u001b[0m\u001b[0m\n\u001b[0;32m---> 57\u001b[0;31m \u001b[0mmodel\u001b[0m\u001b[0;34m.\u001b[0m\u001b[0mfit\u001b[0m\u001b[0;34m(\u001b[0m\u001b[0mx_train\u001b[0m\u001b[0;34m,\u001b[0m \u001b[0my_train\u001b[0m\u001b[0;34m,\u001b[0m \u001b[0mbatch_size\u001b[0m\u001b[0;34m=\u001b[0m\u001b[0;36m2048\u001b[0m\u001b[0;34m,\u001b[0m \u001b[0mepochs\u001b[0m\u001b[0;34m=\u001b[0m\u001b[0;36m50\u001b[0m\u001b[0;34m,\u001b[0m \u001b[0mvalidation_data\u001b[0m\u001b[0;34m=\u001b[0m\u001b[0;34m(\u001b[0m\u001b[0mx_val\u001b[0m\u001b[0;34m,\u001b[0m \u001b[0my_val\u001b[0m\u001b[0;34m)\u001b[0m\u001b[0;34m)\u001b[0m\u001b[0;34m\u001b[0m\u001b[0m\n\u001b[0m\u001b[1;32m     58\u001b[0m \u001b[0;31m# model.fit(x_train, y_train, batch_size=2048, epochs=10)\u001b[0m\u001b[0;34m\u001b[0m\u001b[0;34m\u001b[0m\u001b[0m\n",
      "\u001b[0;32m/var/anaconda3/conda/lib/python3.6/site-packages/keras/engine/training.py\u001b[0m in \u001b[0;36mfit\u001b[0;34m(self, x, y, batch_size, epochs, verbose, callbacks, validation_split, validation_data, shuffle, class_weight, sample_weight, initial_epoch, steps_per_epoch, validation_steps, **kwargs)\u001b[0m\n\u001b[1;32m   1037\u001b[0m                                         \u001b[0minitial_epoch\u001b[0m\u001b[0;34m=\u001b[0m\u001b[0minitial_epoch\u001b[0m\u001b[0;34m,\u001b[0m\u001b[0;34m\u001b[0m\u001b[0m\n\u001b[1;32m   1038\u001b[0m                                         \u001b[0msteps_per_epoch\u001b[0m\u001b[0;34m=\u001b[0m\u001b[0msteps_per_epoch\u001b[0m\u001b[0;34m,\u001b[0m\u001b[0;34m\u001b[0m\u001b[0m\n\u001b[0;32m-> 1039\u001b[0;31m                                         validation_steps=validation_steps)\n\u001b[0m\u001b[1;32m   1040\u001b[0m \u001b[0;34m\u001b[0m\u001b[0m\n\u001b[1;32m   1041\u001b[0m     def evaluate(self, x=None, y=None,\n",
      "\u001b[0;32m/var/anaconda3/conda/lib/python3.6/site-packages/keras/engine/training_arrays.py\u001b[0m in \u001b[0;36mfit_loop\u001b[0;34m(model, f, ins, out_labels, batch_size, epochs, verbose, callbacks, val_f, val_ins, shuffle, callback_metrics, initial_epoch, steps_per_epoch, validation_steps)\u001b[0m\n\u001b[1;32m    197\u001b[0m                     \u001b[0mins_batch\u001b[0m\u001b[0;34m[\u001b[0m\u001b[0mi\u001b[0m\u001b[0;34m]\u001b[0m \u001b[0;34m=\u001b[0m \u001b[0mins_batch\u001b[0m\u001b[0;34m[\u001b[0m\u001b[0mi\u001b[0m\u001b[0;34m]\u001b[0m\u001b[0;34m.\u001b[0m\u001b[0mtoarray\u001b[0m\u001b[0;34m(\u001b[0m\u001b[0;34m)\u001b[0m\u001b[0;34m\u001b[0m\u001b[0m\n\u001b[1;32m    198\u001b[0m \u001b[0;34m\u001b[0m\u001b[0m\n\u001b[0;32m--> 199\u001b[0;31m                 \u001b[0mouts\u001b[0m \u001b[0;34m=\u001b[0m \u001b[0mf\u001b[0m\u001b[0;34m(\u001b[0m\u001b[0mins_batch\u001b[0m\u001b[0;34m)\u001b[0m\u001b[0;34m\u001b[0m\u001b[0m\n\u001b[0m\u001b[1;32m    200\u001b[0m                 \u001b[0mouts\u001b[0m \u001b[0;34m=\u001b[0m \u001b[0mto_list\u001b[0m\u001b[0;34m(\u001b[0m\u001b[0mouts\u001b[0m\u001b[0;34m)\u001b[0m\u001b[0;34m\u001b[0m\u001b[0m\n\u001b[1;32m    201\u001b[0m                 \u001b[0;32mfor\u001b[0m \u001b[0ml\u001b[0m\u001b[0;34m,\u001b[0m \u001b[0mo\u001b[0m \u001b[0;32min\u001b[0m \u001b[0mzip\u001b[0m\u001b[0;34m(\u001b[0m\u001b[0mout_labels\u001b[0m\u001b[0;34m,\u001b[0m \u001b[0mouts\u001b[0m\u001b[0;34m)\u001b[0m\u001b[0;34m:\u001b[0m\u001b[0;34m\u001b[0m\u001b[0m\n",
      "\u001b[0;32m/var/anaconda3/conda/lib/python3.6/site-packages/keras/backend/tensorflow_backend.py\u001b[0m in \u001b[0;36m__call__\u001b[0;34m(self, inputs)\u001b[0m\n\u001b[1;32m   2695\u001b[0m \u001b[0;34m\u001b[0m\u001b[0m\n\u001b[1;32m   2696\u001b[0m     \u001b[0;32mdef\u001b[0m \u001b[0m__call__\u001b[0m\u001b[0;34m(\u001b[0m\u001b[0mself\u001b[0m\u001b[0;34m,\u001b[0m \u001b[0minputs\u001b[0m\u001b[0;34m)\u001b[0m\u001b[0;34m:\u001b[0m\u001b[0;34m\u001b[0m\u001b[0m\n\u001b[0;32m-> 2697\u001b[0;31m         \u001b[0;32mif\u001b[0m \u001b[0mhasattr\u001b[0m\u001b[0;34m(\u001b[0m\u001b[0mget_session\u001b[0m\u001b[0;34m(\u001b[0m\u001b[0;34m)\u001b[0m\u001b[0;34m,\u001b[0m \u001b[0;34m'_make_callable_from_options'\u001b[0m\u001b[0;34m)\u001b[0m\u001b[0;34m:\u001b[0m\u001b[0;34m\u001b[0m\u001b[0m\n\u001b[0m\u001b[1;32m   2698\u001b[0m             \u001b[0;32mif\u001b[0m \u001b[0mpy_any\u001b[0m\u001b[0;34m(\u001b[0m\u001b[0mis_sparse\u001b[0m\u001b[0;34m(\u001b[0m\u001b[0mx\u001b[0m\u001b[0;34m)\u001b[0m \u001b[0;32mfor\u001b[0m \u001b[0mx\u001b[0m \u001b[0;32min\u001b[0m \u001b[0mself\u001b[0m\u001b[0;34m.\u001b[0m\u001b[0minputs\u001b[0m\u001b[0;34m)\u001b[0m\u001b[0;34m:\u001b[0m\u001b[0;34m\u001b[0m\u001b[0m\n\u001b[1;32m   2699\u001b[0m                 \u001b[0;32mif\u001b[0m \u001b[0mpy_any\u001b[0m\u001b[0;34m(\u001b[0m\u001b[0mis_tensor\u001b[0m\u001b[0;34m(\u001b[0m\u001b[0mx\u001b[0m\u001b[0;34m)\u001b[0m \u001b[0;32mfor\u001b[0m \u001b[0mx\u001b[0m \u001b[0;32min\u001b[0m \u001b[0minputs\u001b[0m\u001b[0;34m)\u001b[0m\u001b[0;34m:\u001b[0m\u001b[0;34m\u001b[0m\u001b[0m\n",
      "\u001b[0;32m/var/anaconda3/conda/lib/python3.6/site-packages/keras/backend/tensorflow_backend.py\u001b[0m in \u001b[0;36mget_session\u001b[0;34m()\u001b[0m\n\u001b[1;32m    204\u001b[0m                     \u001b[0mv\u001b[0m\u001b[0;34m.\u001b[0m\u001b[0m_keras_initialized\u001b[0m \u001b[0;34m=\u001b[0m \u001b[0;32mTrue\u001b[0m\u001b[0;34m\u001b[0m\u001b[0m\n\u001b[1;32m    205\u001b[0m                 \u001b[0;32mif\u001b[0m \u001b[0muninitialized_vars\u001b[0m\u001b[0;34m:\u001b[0m\u001b[0;34m\u001b[0m\u001b[0m\n\u001b[0;32m--> 206\u001b[0;31m                     \u001b[0msession\u001b[0m\u001b[0;34m.\u001b[0m\u001b[0mrun\u001b[0m\u001b[0;34m(\u001b[0m\u001b[0mtf\u001b[0m\u001b[0;34m.\u001b[0m\u001b[0mvariables_initializer\u001b[0m\u001b[0;34m(\u001b[0m\u001b[0muninitialized_vars\u001b[0m\u001b[0;34m)\u001b[0m\u001b[0;34m)\u001b[0m\u001b[0;34m\u001b[0m\u001b[0m\n\u001b[0m\u001b[1;32m    207\u001b[0m     \u001b[0;31m# hack for list_devices() function.\u001b[0m\u001b[0;34m\u001b[0m\u001b[0;34m\u001b[0m\u001b[0m\n\u001b[1;32m    208\u001b[0m     \u001b[0;31m# list_devices() function is not available under tensorflow r1.3.\u001b[0m\u001b[0;34m\u001b[0m\u001b[0;34m\u001b[0m\u001b[0m\n",
      "\u001b[0;32m/var/anaconda3/conda/lib/python3.6/site-packages/tensorflow/python/client/session.py\u001b[0m in \u001b[0;36mrun\u001b[0;34m(self, fetches, feed_dict, options, run_metadata)\u001b[0m\n\u001b[1;32m    927\u001b[0m     \u001b[0;32mtry\u001b[0m\u001b[0;34m:\u001b[0m\u001b[0;34m\u001b[0m\u001b[0m\n\u001b[1;32m    928\u001b[0m       result = self._run(None, fetches, feed_dict, options_ptr,\n\u001b[0;32m--> 929\u001b[0;31m                          run_metadata_ptr)\n\u001b[0m\u001b[1;32m    930\u001b[0m       \u001b[0;32mif\u001b[0m \u001b[0mrun_metadata\u001b[0m\u001b[0;34m:\u001b[0m\u001b[0;34m\u001b[0m\u001b[0m\n\u001b[1;32m    931\u001b[0m         \u001b[0mproto_data\u001b[0m \u001b[0;34m=\u001b[0m \u001b[0mtf_session\u001b[0m\u001b[0;34m.\u001b[0m\u001b[0mTF_GetBuffer\u001b[0m\u001b[0;34m(\u001b[0m\u001b[0mrun_metadata_ptr\u001b[0m\u001b[0;34m)\u001b[0m\u001b[0;34m\u001b[0m\u001b[0m\n",
      "\u001b[0;32m/var/anaconda3/conda/lib/python3.6/site-packages/tensorflow/python/client/session.py\u001b[0m in \u001b[0;36m_run\u001b[0;34m(self, handle, fetches, feed_dict, options, run_metadata)\u001b[0m\n\u001b[1;32m   1150\u001b[0m     \u001b[0;32mif\u001b[0m \u001b[0mfinal_fetches\u001b[0m \u001b[0;32mor\u001b[0m \u001b[0mfinal_targets\u001b[0m \u001b[0;32mor\u001b[0m \u001b[0;34m(\u001b[0m\u001b[0mhandle\u001b[0m \u001b[0;32mand\u001b[0m \u001b[0mfeed_dict_tensor\u001b[0m\u001b[0;34m)\u001b[0m\u001b[0;34m:\u001b[0m\u001b[0;34m\u001b[0m\u001b[0m\n\u001b[1;32m   1151\u001b[0m       results = self._do_run(handle, final_targets, final_fetches,\n\u001b[0;32m-> 1152\u001b[0;31m                              feed_dict_tensor, options, run_metadata)\n\u001b[0m\u001b[1;32m   1153\u001b[0m     \u001b[0;32melse\u001b[0m\u001b[0;34m:\u001b[0m\u001b[0;34m\u001b[0m\u001b[0m\n\u001b[1;32m   1154\u001b[0m       \u001b[0mresults\u001b[0m \u001b[0;34m=\u001b[0m \u001b[0;34m[\u001b[0m\u001b[0;34m]\u001b[0m\u001b[0;34m\u001b[0m\u001b[0m\n",
      "\u001b[0;32m/var/anaconda3/conda/lib/python3.6/site-packages/tensorflow/python/client/session.py\u001b[0m in \u001b[0;36m_do_run\u001b[0;34m(self, handle, target_list, fetch_list, feed_dict, options, run_metadata)\u001b[0m\n\u001b[1;32m   1326\u001b[0m     \u001b[0;32mif\u001b[0m \u001b[0mhandle\u001b[0m \u001b[0;32mis\u001b[0m \u001b[0;32mNone\u001b[0m\u001b[0;34m:\u001b[0m\u001b[0;34m\u001b[0m\u001b[0m\n\u001b[1;32m   1327\u001b[0m       return self._do_call(_run_fn, feeds, fetches, targets, options,\n\u001b[0;32m-> 1328\u001b[0;31m                            run_metadata)\n\u001b[0m\u001b[1;32m   1329\u001b[0m     \u001b[0;32melse\u001b[0m\u001b[0;34m:\u001b[0m\u001b[0;34m\u001b[0m\u001b[0m\n\u001b[1;32m   1330\u001b[0m       \u001b[0;32mreturn\u001b[0m \u001b[0mself\u001b[0m\u001b[0;34m.\u001b[0m\u001b[0m_do_call\u001b[0m\u001b[0;34m(\u001b[0m\u001b[0m_prun_fn\u001b[0m\u001b[0;34m,\u001b[0m \u001b[0mhandle\u001b[0m\u001b[0;34m,\u001b[0m \u001b[0mfeeds\u001b[0m\u001b[0;34m,\u001b[0m \u001b[0mfetches\u001b[0m\u001b[0;34m)\u001b[0m\u001b[0;34m\u001b[0m\u001b[0m\n",
      "\u001b[0;32m/var/anaconda3/conda/lib/python3.6/site-packages/tensorflow/python/client/session.py\u001b[0m in \u001b[0;36m_do_call\u001b[0;34m(self, fn, *args)\u001b[0m\n\u001b[1;32m   1332\u001b[0m   \u001b[0;32mdef\u001b[0m \u001b[0m_do_call\u001b[0m\u001b[0;34m(\u001b[0m\u001b[0mself\u001b[0m\u001b[0;34m,\u001b[0m \u001b[0mfn\u001b[0m\u001b[0;34m,\u001b[0m \u001b[0;34m*\u001b[0m\u001b[0margs\u001b[0m\u001b[0;34m)\u001b[0m\u001b[0;34m:\u001b[0m\u001b[0;34m\u001b[0m\u001b[0m\n\u001b[1;32m   1333\u001b[0m     \u001b[0;32mtry\u001b[0m\u001b[0;34m:\u001b[0m\u001b[0;34m\u001b[0m\u001b[0m\n\u001b[0;32m-> 1334\u001b[0;31m       \u001b[0;32mreturn\u001b[0m \u001b[0mfn\u001b[0m\u001b[0;34m(\u001b[0m\u001b[0;34m*\u001b[0m\u001b[0margs\u001b[0m\u001b[0;34m)\u001b[0m\u001b[0;34m\u001b[0m\u001b[0m\n\u001b[0m\u001b[1;32m   1335\u001b[0m     \u001b[0;32mexcept\u001b[0m \u001b[0merrors\u001b[0m\u001b[0;34m.\u001b[0m\u001b[0mOpError\u001b[0m \u001b[0;32mas\u001b[0m \u001b[0me\u001b[0m\u001b[0;34m:\u001b[0m\u001b[0;34m\u001b[0m\u001b[0m\n\u001b[1;32m   1336\u001b[0m       \u001b[0mmessage\u001b[0m \u001b[0;34m=\u001b[0m \u001b[0mcompat\u001b[0m\u001b[0;34m.\u001b[0m\u001b[0mas_text\u001b[0m\u001b[0;34m(\u001b[0m\u001b[0me\u001b[0m\u001b[0;34m.\u001b[0m\u001b[0mmessage\u001b[0m\u001b[0;34m)\u001b[0m\u001b[0;34m\u001b[0m\u001b[0m\n",
      "\u001b[0;32m/var/anaconda3/conda/lib/python3.6/site-packages/tensorflow/python/client/session.py\u001b[0m in \u001b[0;36m_run_fn\u001b[0;34m(feed_dict, fetch_list, target_list, options, run_metadata)\u001b[0m\n\u001b[1;32m   1315\u001b[0m     \u001b[0;32mdef\u001b[0m \u001b[0m_run_fn\u001b[0m\u001b[0;34m(\u001b[0m\u001b[0mfeed_dict\u001b[0m\u001b[0;34m,\u001b[0m \u001b[0mfetch_list\u001b[0m\u001b[0;34m,\u001b[0m \u001b[0mtarget_list\u001b[0m\u001b[0;34m,\u001b[0m \u001b[0moptions\u001b[0m\u001b[0;34m,\u001b[0m \u001b[0mrun_metadata\u001b[0m\u001b[0;34m)\u001b[0m\u001b[0;34m:\u001b[0m\u001b[0;34m\u001b[0m\u001b[0m\n\u001b[1;32m   1316\u001b[0m       \u001b[0;31m# Ensure any changes to the graph are reflected in the runtime.\u001b[0m\u001b[0;34m\u001b[0m\u001b[0;34m\u001b[0m\u001b[0m\n\u001b[0;32m-> 1317\u001b[0;31m       \u001b[0mself\u001b[0m\u001b[0;34m.\u001b[0m\u001b[0m_extend_graph\u001b[0m\u001b[0;34m(\u001b[0m\u001b[0;34m)\u001b[0m\u001b[0;34m\u001b[0m\u001b[0m\n\u001b[0m\u001b[1;32m   1318\u001b[0m       return self._call_tf_sessionrun(\n\u001b[1;32m   1319\u001b[0m           options, feed_dict, fetch_list, target_list, run_metadata)\n",
      "\u001b[0;32m/var/anaconda3/conda/lib/python3.6/site-packages/tensorflow/python/client/session.py\u001b[0m in \u001b[0;36m_extend_graph\u001b[0;34m(self)\u001b[0m\n\u001b[1;32m   1350\u001b[0m   \u001b[0;32mdef\u001b[0m \u001b[0m_extend_graph\u001b[0m\u001b[0;34m(\u001b[0m\u001b[0mself\u001b[0m\u001b[0;34m)\u001b[0m\u001b[0;34m:\u001b[0m\u001b[0;34m\u001b[0m\u001b[0m\n\u001b[1;32m   1351\u001b[0m     \u001b[0;32mwith\u001b[0m \u001b[0mself\u001b[0m\u001b[0;34m.\u001b[0m\u001b[0m_graph\u001b[0m\u001b[0;34m.\u001b[0m\u001b[0m_session_run_lock\u001b[0m\u001b[0;34m(\u001b[0m\u001b[0;34m)\u001b[0m\u001b[0;34m:\u001b[0m  \u001b[0;31m# pylint: disable=protected-access\u001b[0m\u001b[0;34m\u001b[0m\u001b[0m\n\u001b[0;32m-> 1352\u001b[0;31m       \u001b[0mtf_session\u001b[0m\u001b[0;34m.\u001b[0m\u001b[0mExtendSession\u001b[0m\u001b[0;34m(\u001b[0m\u001b[0mself\u001b[0m\u001b[0;34m.\u001b[0m\u001b[0m_session\u001b[0m\u001b[0;34m)\u001b[0m\u001b[0;34m\u001b[0m\u001b[0m\n\u001b[0m\u001b[1;32m   1353\u001b[0m \u001b[0;34m\u001b[0m\u001b[0m\n\u001b[1;32m   1354\u001b[0m   \u001b[0;31m# The threshold to run garbage collection to delete dead tensors.\u001b[0m\u001b[0;34m\u001b[0m\u001b[0;34m\u001b[0m\u001b[0m\n",
      "\u001b[0;31mKeyboardInterrupt\u001b[0m: "
     ]
    }
   ],
   "source": [
    "# build the model: a single LSTM\n",
    "print('Build model...')\n",
    "model = Sequential()\n",
    "# model.add(LSTM(1, input_shape=(maxlen, length)))\n",
    "# model.add(Dense(1, activation='relu'))\n",
    "model.add(LSTM(32, return_sequences=True, input_shape=(32, 84),recurrent_initializer='he_uniform'))\n",
    "model.add(BatchNormalization())\n",
    "model.add(LeakyReLU())\n",
    "model.add(LSTM(32, return_sequences=True, input_shape=(32, 84),recurrent_initializer='he_uniform'))\n",
    "model.add(BatchNormalization())\n",
    "model.add(LeakyReLU())\n",
    "# model.add(Dropout(0.3))\n",
    "# model.add(LSTM(32, return_sequences=True, input_shape=(32, 84)))\n",
    "model.add(LSTM(32, return_sequences=False, input_shape=(32, 84),recurrent_initializer='he_uniform'))\n",
    "# model.add(BatchNormalization())\n",
    "# model.add(LeakyReLU())\n",
    "# model.add(Dense(1, activation='relu'))\n",
    "\n",
    "# model.add(Dense(64, input_dim=(2688), kernel_initializer='he_uniform'))\n",
    "# model.add(BatchNormalization())\n",
    "# model.add(LeakyReLU())\n",
    "# model.add(Dropout(0.5))\n",
    "# model.add(Dense(32))\n",
    "# model.add(BatchNormalization())\n",
    "# model.add(LeakyReLU())\n",
    "# model.add(Dropout(0.5))\n",
    "# model.add(Dense(64))\n",
    "# model.add(BatchNormalization())\n",
    "# model.add(LeakyReLU())\n",
    "# model.add(Dropout(0.5))\n",
    "\n",
    "# model.add(Dense(128, input_dim=(2688)))\n",
    "# model.add(Dense(64))\n",
    "# model.add(Dense(64))\n",
    "\n",
    "# model.add(Dense(256))\n",
    "# model.add(BatchNormalization())\n",
    "# model.add(LeakyReLU())\n",
    "# model.add(Dropout(0.3))\n",
    "\n",
    "# model.add(Dense(16))\n",
    "# model.add(BatchNormalization())\n",
    "# model.add(LeakyReLU())\n",
    "model.add(Dense(MAX_SHOP*5, activation='softmax'))\n",
    "# model.add(Activation('softmax'))\n",
    "\n",
    "\n",
    "# from keras.optimizers import RMSprop, Adam, SGD, Nadam\n",
    "# optimizer = RMSprop(lr=0.005)\n",
    "# optimizer = SGD(lr=0.01, momentum=0.0, decay=0.0, nesterov=False)\n",
    "# optimizer = Nadam(lr=0.01, beta_1=0.9, beta_2=0.999, epsilon=None, schedule_decay=0.004)\n",
    "optimizer = Adam(lr=0.005, beta_1=0.9, beta_2=0.999, epsilon=None, decay=0.0, amsgrad=False)\n",
    "\n",
    "model.compile(loss='mean_squared_error', optimizer=optimizer)\n",
    "\n",
    "# model.fit(x_train, y_train, batch_size=2048, epochs=50, validation_data=(x_val, y_val))\n",
    "model.fit(x_train, y_train, batch_size=2048, epochs=50, validation_data=(x_val, y_val))\n",
    "# model.fit(x_train, y_train, batch_size=2048, epochs=10)"
   ]
  },
  {
   "cell_type": "code",
   "execution_count": null,
   "metadata": {},
   "outputs": [],
   "source": [
    "model.summary()"
   ]
  },
  {
   "cell_type": "code",
   "execution_count": 41,
   "metadata": {},
   "outputs": [
    {
     "name": "stdout",
     "output_type": "stream",
     "text": [
      "Train on 5100 samples, validate on 5100 samples\n",
      "Epoch 1/20\n",
      "5100/5100 [==============================] - 2s 309us/step - loss: 0.0065 - val_loss: 0.0128\n",
      "Epoch 2/20\n",
      "5100/5100 [==============================] - 0s 23us/step - loss: 0.0070 - val_loss: 0.0134\n",
      "Epoch 3/20\n",
      "5100/5100 [==============================] - 0s 22us/step - loss: 0.0070 - val_loss: 0.0131\n",
      "Epoch 4/20\n",
      "5100/5100 [==============================] - 0s 22us/step - loss: 0.0073 - val_loss: 0.0132\n",
      "Epoch 5/20\n",
      "5100/5100 [==============================] - 0s 21us/step - loss: 0.0067 - val_loss: 0.0129\n",
      "Epoch 6/20\n",
      "5100/5100 [==============================] - 0s 21us/step - loss: 0.0067 - val_loss: 0.0136\n",
      "Epoch 7/20\n",
      "5100/5100 [==============================] - 0s 23us/step - loss: 0.0067 - val_loss: 0.0134\n",
      "Epoch 8/20\n",
      "5100/5100 [==============================] - 0s 21us/step - loss: 0.0068 - val_loss: 0.0137\n",
      "Epoch 9/20\n",
      "5100/5100 [==============================] - 0s 22us/step - loss: 0.0062 - val_loss: 0.0134\n",
      "Epoch 10/20\n",
      "5100/5100 [==============================] - 0s 23us/step - loss: 0.0065 - val_loss: 0.0141\n",
      "Epoch 11/20\n",
      "5100/5100 [==============================] - 0s 22us/step - loss: 0.0061 - val_loss: 0.0138\n",
      "Epoch 12/20\n",
      "5100/5100 [==============================] - 0s 22us/step - loss: 0.0063 - val_loss: 0.0136\n",
      "Epoch 13/20\n",
      "5100/5100 [==============================] - 0s 22us/step - loss: 0.0073 - val_loss: 0.0139\n",
      "Epoch 14/20\n",
      "5100/5100 [==============================] - 0s 21us/step - loss: 0.0064 - val_loss: 0.0141\n",
      "Epoch 15/20\n",
      "5100/5100 [==============================] - 0s 22us/step - loss: 0.0066 - val_loss: 0.0141\n",
      "Epoch 16/20\n",
      "5100/5100 [==============================] - 0s 20us/step - loss: 0.0066 - val_loss: 0.0138\n",
      "Epoch 17/20\n",
      "5100/5100 [==============================] - 0s 21us/step - loss: 0.0062 - val_loss: 0.0140\n",
      "Epoch 18/20\n",
      "5100/5100 [==============================] - 0s 20us/step - loss: 0.0068 - val_loss: 0.0140\n",
      "Epoch 19/20\n",
      "5100/5100 [==============================] - 0s 24us/step - loss: 0.0062 - val_loss: 0.0139\n",
      "Epoch 20/20\n",
      "5100/5100 [==============================] - 0s 21us/step - loss: 0.0065 - val_loss: 0.0133\n"
     ]
    },
    {
     "data": {
      "text/plain": [
       "<keras.callbacks.History at 0x7f20f0680978>"
      ]
     },
     "execution_count": 41,
     "metadata": {},
     "output_type": "execute_result"
    }
   ],
   "source": [
    "optimizer = RMSprop(lr=0.0005)\n",
    "model.compile(loss='mean_squared_error', optimizer=optimizer)\n",
    "\n",
    "model.fit(x_train, y_train, batch_size=2048, epochs=20, validation_data=(x_val, y_val))"
   ]
  },
  {
   "cell_type": "code",
   "execution_count": 97,
   "metadata": {},
   "outputs": [],
   "source": [
    "# MAX_ITEM = len(test_items)\n",
    "# MAX_MONTH = 32 \n",
    "# MAX_SHOP = len(test_shops)\n",
    "\n",
    "# month_count = 32\n",
    "# x_test = np.zeros((MAX_ITEM,MAX_SHOP*MAX_MONTH*2), dtype=np.float32)\n",
    "# for i, item in enumerate(table):\n",
    "#     for j, sales in enumerate(item):  \n",
    "#         for k in range(MAX_MONTH):\n",
    "#             x_test[i][j*MAX_MONTH*2+k*2] = table[i][j][k+2][0]\n",
    "#             x_test[i][j*MAX_MONTH*2+k*2+1] = table[i][j][k+2][1]\n",
    "            \n",
    "            \n",
    "x_test = np.zeros((MAX_ITEM, MAX_MONTH, MAX_SHOP*2), dtype=np.float32)\n",
    "for i, item in enumerate(table):\n",
    "    for j, sales in enumerate(item):  \n",
    "        for k in range(MAX_MONTH):\n",
    "            x_test[i][k][j*2] = table[i][j][k+2][0]\n",
    "            x_test[i][k][j*2+1] = table[i][j][k+2][1]"
   ]
  },
  {
   "cell_type": "code",
   "execution_count": 106,
   "metadata": {},
   "outputs": [
    {
     "data": {
      "text/plain": [
       "array([ 0.        ,  0.        ,  0.        ,  0.        , -0.15018865,\n",
       "        0.        ,  0.        ,  0.        ,  0.        ,  0.        ,\n",
       "        0.        ,  0.        ,  0.        ,  0.        ,  0.        ,\n",
       "        0.        , -0.15018865,  0.        ,  0.        ,  0.        ,\n",
       "        0.        ,  0.        ,  0.        ,  0.        ,  0.        ,\n",
       "        0.        ,  0.        ,  0.        ,  0.        ,  0.        ,\n",
       "        0.        ,  0.        ,  0.        ,  0.        ,  0.        ,\n",
       "        0.        ,  0.        ,  0.        ,  0.        ,  0.        ,\n",
       "        0.        ,  0.        ], dtype=float32)"
      ]
     },
     "execution_count": 106,
     "metadata": {},
     "output_type": "execute_result"
    }
   ],
   "source": [
    "y_train[0]"
   ]
  },
  {
   "cell_type": "code",
   "execution_count": 98,
   "metadata": {},
   "outputs": [],
   "source": [
    "predict_test = model.predict(x_test)"
   ]
  },
  {
   "cell_type": "code",
   "execution_count": 99,
   "metadata": {},
   "outputs": [
    {
     "data": {
      "text/plain": [
       "0.0"
      ]
     },
     "execution_count": 99,
     "metadata": {},
     "output_type": "execute_result"
    }
   ],
   "source": [
    "predict_test[0][0]"
   ]
  },
  {
   "cell_type": "code",
   "execution_count": 100,
   "metadata": {},
   "outputs": [],
   "source": [
    "predict_test = cnt_scaler.inverse_transform(predict_test)"
   ]
  },
  {
   "cell_type": "code",
   "execution_count": 101,
   "metadata": {},
   "outputs": [
    {
     "data": {
      "text/plain": [
       "2.6955707"
      ]
     },
     "execution_count": 101,
     "metadata": {},
     "output_type": "execute_result"
    }
   ],
   "source": [
    "predict_test[0][0]"
   ]
  },
  {
   "cell_type": "code",
   "execution_count": 104,
   "metadata": {},
   "outputs": [
    {
     "data": {
      "text/plain": [
       "array([2.6955707, 2.6955707, 2.6955707, 2.6955707, 2.6955707, 2.6955707,\n",
       "       2.6955707, 2.6955707, 2.6955707, 2.6955707, 2.6955707, 2.6955707,\n",
       "       2.6955707, 2.6955707, 2.6955707, 2.6955707, 2.6955707, 2.6955707,\n",
       "       2.6955707, 2.6955707, 2.6955707, 2.6955707, 2.6955707, 2.6955707,\n",
       "       2.6955707, 2.6955707, 2.6955707, 2.6955707, 2.6955707, 2.6955707,\n",
       "       2.6955707, 2.6955707, 2.6955707, 2.6955707, 2.6955707, 2.6955707,\n",
       "       2.6955707, 2.6955707, 2.6955707, 2.6955707, 2.6955707, 2.6955707],\n",
       "      dtype=float32)"
      ]
     },
     "execution_count": 104,
     "metadata": {},
     "output_type": "execute_result"
    }
   ],
   "source": [
    "predict_test[0]"
   ]
  },
  {
   "cell_type": "code",
   "execution_count": 102,
   "metadata": {},
   "outputs": [],
   "source": [
    "test = pd.read_csv('all/test.csv')\n",
    "test = test.set_index(['shop_id', 'item_id'])\n",
    "test['item_cnt_month'] = 0\n",
    "\n",
    "test2 = test\n",
    "test2\n",
    "for index, sentence in enumerate(test2.index.values.tolist()):\n",
    "#     print(index, sentence)\n",
    "    (shop_id, item_id) = (sentence[0], sentence[1])\n",
    "    test.loc[(shop_id, item_id)]['item_cnt_month'] = predict_test[item_dm[item_id]][shop_dm[shop_id]]\n",
    "    \n",
    "    \n",
    "\n",
    "test = test.reset_index().drop(['shop_id', 'item_id'], axis=1)\n",
    "test.to_csv('submission2.csv', index=False)\n"
   ]
  },
  {
   "cell_type": "code",
   "execution_count": 68,
   "metadata": {},
   "outputs": [
    {
     "name": "stdout",
     "output_type": "stream",
     "text": [
      "Test Score: 1.43 RMSE\n"
     ]
    }
   ],
   "source": [
    "import math\n",
    "from sklearn.metrics import mean_squared_error\n",
    "\n",
    "# make predictions\n",
    "# predict_train = model.predict(x_train)\n",
    "predict_val = model.predict(x_val)\n",
    "# invert predictions\n",
    "# predict_train = cnt_scaler.inverse_transform(predict_train)\n",
    "# yy_train = cnt_scaler.inverse_transform(y_train)\n",
    "predict_val = cnt_scaler.inverse_transform(predict_val)\n",
    "yy_val = cnt_scaler.inverse_transform(y_val)\n",
    "# calculate root mean squared error\n",
    "# trainScore = math.sqrt(mean_squared_error(predict_train, yy_train))\n",
    "# print('Train Score: %.2f RMSE' % (trainScore))\n",
    "valScore = math.sqrt(mean_squared_error(predict_val, yy_val))\n",
    "print('Test Score: %.2f RMSE' % (valScore))\n",
    "#For 1 epoch\n",
    "# Train Score: 2.31 RMSE\n",
    "# Test Score: 1.42 RMSE\n",
    "# 6 epoch\n",
    "# Train Score: 1.89 RMSE\n",
    "# Test Score: 1.98 RMSE\n",
    "# 10 epoch\n",
    "# Train Score: 1.53 RMSE\n",
    "# Test Score: 2.23 RMSE\n",
    "# 10 epoch\n",
    "# 16 LSTM\n",
    "# Train Score: 1.93 RMSE\n",
    "# Test Score: 1.90 RMSE\n",
    "# 10 epoch\n",
    "# 8 LSTM\n",
    "# Train Score: 2.31 RMSE\n",
    "# Test Score: 1.77 RMSE\n",
    "\n",
    "# 4 LSTM\n",
    "# Test Score: 1.52 RMSE\n",
    "\n",
    "# 1 LSTM\n",
    "# Test Score: 0.98 RMSE\n",
    "\n",
    "# 4 Dense, size 16, 10 epoch\n",
    "# 0.82\n",
    "\n",
    "\n",
    "# 5 Dense, size 16, 12 epoch\n",
    "# Test Score: 1.36 RMSE\n",
    "\n",
    "# Dense 16, 8, 8, 8, 8, \n",
    "# epoch 8\n",
    "# Test Score: 0.58 RMSE\n"
   ]
  },
  {
   "cell_type": "code",
   "execution_count": 38,
   "metadata": {},
   "outputs": [
    {
     "name": "stdout",
     "output_type": "stream",
     "text": [
      "134126\n",
      "134126\n"
     ]
    }
   ],
   "source": [
    "print(len(x_fin))\n",
    "print(len(y_fin))\n",
    "# print(len(y_train))\n",
    "# print(len(y_val))"
   ]
  },
  {
   "cell_type": "code",
   "execution_count": 39,
   "metadata": {},
   "outputs": [
    {
     "name": "stdout",
     "output_type": "stream",
     "text": [
      "Build model...\n",
      "Epoch 1/5\n",
      "134126/134126 [==============================] - 5s 39us/step - loss: 0.2463\n",
      "Epoch 2/5\n",
      "134126/134126 [==============================] - 3s 25us/step - loss: 0.1808\n",
      "Epoch 3/5\n",
      "134126/134126 [==============================] - 3s 25us/step - loss: 0.1682\n",
      "Epoch 4/5\n",
      "134126/134126 [==============================] - 3s 25us/step - loss: 0.1671\n",
      "Epoch 5/5\n",
      "134126/134126 [==============================] - 3s 25us/step - loss: 0.1524\n"
     ]
    },
    {
     "data": {
      "text/plain": [
       "<keras.callbacks.History at 0x7f897a26be80>"
      ]
     },
     "execution_count": 39,
     "metadata": {},
     "output_type": "execute_result"
    }
   ],
   "source": [
    "print('Build model...')\n",
    "model = Sequential()\n",
    "# model.add(LSTM(1, input_shape=(maxlen, length)))\n",
    "# model.add(Dense(1, activation='relu'))\n",
    "\n",
    "\n",
    "# model.add(Dense(64, input_dim=length))\n",
    "model.add(Dense(16, input_dim=(length)))\n",
    "model.add(BatchNormalization())\n",
    "model.add(LeakyReLU())\n",
    "model.add(Dropout(0.5))\n",
    "\n",
    "model.add(Dense(8, input_dim=(length)))\n",
    "model.add(BatchNormalization())\n",
    "model.add(LeakyReLU())\n",
    "model.add(Dropout(0.5))\n",
    "\n",
    "model.add(Dense(8, input_dim=(length)))\n",
    "model.add(BatchNormalization())\n",
    "model.add(LeakyReLU())\n",
    "model.add(Dropout(0.5))\n",
    "\n",
    "model.add(Dense(8, input_dim=(length)))\n",
    "model.add(BatchNormalization())\n",
    "model.add(LeakyReLU())\n",
    "model.add(Dropout(0.5))\n",
    "\n",
    "model.add(Dense(8, input_dim=(length)))\n",
    "model.add(BatchNormalization())\n",
    "model.add(LeakyReLU())\n",
    "model.add(Dropout(0.5))\n",
    "# model.add(Dense(16))\n",
    "# model.add(BatchNormalization())\n",
    "# model.add(LeakyReLU())\n",
    "model.add(Dense(1))\n",
    "# model.add(Activation('softmax'))\n",
    "\n",
    "optimizer = RMSprop(lr=0.005)\n",
    "model.compile(loss='mean_squared_error', optimizer=optimizer)\n",
    "\n",
    "model.fit(x_fin, y_fin, batch_size=2048, epochs=5)"
   ]
  },
  {
   "cell_type": "code",
   "execution_count": 38,
   "metadata": {},
   "outputs": [],
   "source": [
    "model.save(\"my_model.h5\") "
   ]
  },
  {
   "cell_type": "code",
   "execution_count": null,
   "metadata": {},
   "outputs": [],
   "source": [
    "model = keras.models.load_model(\"my_model.h5\") "
   ]
  },
  {
   "cell_type": "code",
   "execution_count": 95,
   "metadata": {},
   "outputs": [],
   "source": [
    "del predict_train\n",
    "del predict_val"
   ]
  },
  {
   "cell_type": "code",
   "execution_count": 58,
   "metadata": {},
   "outputs": [
    {
     "name": "stdout",
     "output_type": "stream",
     "text": [
      "Epoch 1/13\n",
      "111404/111404 [==============================] - 19s 172us/step - loss: 9.2909\n",
      "Epoch 2/13\n",
      "111404/111404 [==============================] - 19s 172us/step - loss: 7.6454\n",
      "Epoch 3/13\n",
      "111404/111404 [==============================] - 19s 173us/step - loss: 6.8270\n",
      "Epoch 4/13\n",
      "111404/111404 [==============================] - 19s 173us/step - loss: 6.0881\n",
      "Epoch 5/13\n",
      "111404/111404 [==============================] - 19s 174us/step - loss: 5.6661\n",
      "Epoch 6/13\n",
      "111404/111404 [==============================] - 19s 173us/step - loss: 5.3044\n",
      "Epoch 7/13\n",
      "111404/111404 [==============================] - 19s 173us/step - loss: 5.0030\n",
      "Epoch 8/13\n",
      "111404/111404 [==============================] - 19s 172us/step - loss: 4.6944\n",
      "Epoch 9/13\n",
      "111404/111404 [==============================] - 19s 173us/step - loss: 4.3458\n",
      "Epoch 10/13\n",
      "111404/111404 [==============================] - 19s 171us/step - loss: 4.1903\n",
      "Epoch 11/13\n",
      "111404/111404 [==============================] - 19s 172us/step - loss: 3.9588\n",
      "Epoch 12/13\n",
      "111404/111404 [==============================] - 19s 171us/step - loss: 3.7914\n",
      "Epoch 13/13\n",
      "111404/111404 [==============================] - 19s 172us/step - loss: 3.4868\n"
     ]
    },
    {
     "data": {
      "text/plain": [
       "<keras.callbacks.History at 0x7f9d29e44f98>"
      ]
     },
     "execution_count": 58,
     "metadata": {},
     "output_type": "execute_result"
    }
   ],
   "source": [
    "model.fit(x_val, y_val, batch_size=2048, epochs=13)"
   ]
  },
  {
   "cell_type": "code",
   "execution_count": 40,
   "metadata": {},
   "outputs": [],
   "source": [
    "predict_test = model.predict(x_test)\n",
    "predict_test = cnt_scaler.inverse_transform(predict_test)"
   ]
  },
  {
   "cell_type": "code",
   "execution_count": 41,
   "metadata": {},
   "outputs": [],
   "source": [
    "\n",
    "test = pd.read_csv('all/test.csv')\n",
    "test = test.set_index(['shop_id', 'item_id'])\n",
    "test['item_cnt_month'] = 0\n",
    "\n",
    "for index, sentence in enumerate(x_test_o):\n",
    "    (shop_id, item_id) = (sentence[0]['shop_id'], sentence[0]['item_id'])\n",
    "    test.loc[(shop_id, item_id)]['item_cnt_month'] = predict_test[index]\n",
    "    \n",
    "    \n",
    "\n",
    "test = test.reset_index().drop(['shop_id', 'item_id'], axis=1)\n",
    "test.to_csv('submission2.csv', index=False)\n"
   ]
  },
  {
   "cell_type": "markdown",
   "metadata": {},
   "source": []
  }
 ],
 "metadata": {
  "kernelspec": {
   "display_name": "Python 3",
   "language": "python",
   "name": "python3"
  },
  "language_info": {
   "codemirror_mode": {
    "name": "ipython",
    "version": 3
   },
   "file_extension": ".py",
   "mimetype": "text/x-python",
   "name": "python",
   "nbconvert_exporter": "python",
   "pygments_lexer": "ipython3",
   "version": "3.6.6"
  }
 },
 "nbformat": 4,
 "nbformat_minor": 2
}
